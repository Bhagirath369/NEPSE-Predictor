{
 "cells": [
  {
   "cell_type": "code",
   "execution_count": null,
   "metadata": {},
   "outputs": [],
   "source": []
  },
  {
   "cell_type": "code",
   "execution_count": null,
   "metadata": {},
   "outputs": [],
   "source": []
  },
  {
   "cell_type": "code",
   "execution_count": 3,
   "metadata": {},
   "outputs": [],
   "source": [
    "import pandas as pd"
   ]
  },
  {
   "cell_type": "code",
   "execution_count": 5,
   "metadata": {},
   "outputs": [
    {
     "name": "stdout",
     "output_type": "stream",
     "text": [
      "            Date    Close Percent Change             Volume        RSI  delta\n",
      "1110  11/10/2024  2738.06          2.33%   9,771,124,073.55  55.078290  62.55\n",
      "1111  11/11/2024  2760.21          0.80%  11,315,207,127.09  52.427103  22.15\n",
      "1112  11/12/2024  2748.96         -0.40%   7,859,740,798.91  50.492099 -11.25\n",
      "1113  11/13/2024  2734.83         -0.51%   7,911,976,449.08  55.552548 -14.13\n",
      "1114  11/14/2024  2748.78          0.51%  10,320,331,436.20  68.871784  13.95\n",
      "1115  11/17/2024  2753.76          0.18%  11,726,756,904.61  66.438638   4.98\n",
      "1116  11/19/2024  2702.65         -1.85%  10,468,320,521.90  59.600939 -51.11\n",
      "1117  11/20/2024  2711.75          0.33%   7,092,879,946.39  64.635876   9.10\n",
      "1118  11/21/2024  2680.44         -1.15%   8,257,643,886.83  60.041135 -31.31\n",
      "1119  11/24/2024  2667.40         -0.48%   7,728,861,250.73  53.712938 -13.04\n",
      "1120  11/25/2024  2683.24          0.59%   6,345,809,597.84  48.343674  15.84\n",
      "1121  11/26/2024  2716.66          1.24%   7,449,898,987.89  56.850565  33.42\n",
      "1122  11/27/2024  2755.47          1.42%   9,312,934,840.36  62.065342  38.81\n",
      "1123  11/28/2024  2748.05         -0.30%   8,545,525,373.13  61.022306  -7.42\n",
      "1124   12/1/2024  2738.06         -0.36%   8,832,225,892.82  50.000000  -9.99\n",
      "1125   12/2/2024  2758.04          0.72%  10,541,746,564.07  49.604491  19.98\n",
      "1126   12/3/2024  2775.85          0.64%   8,521,219,299.67  54.786571  17.81\n",
      "1127   12/4/2024  2750.87         -0.89%   9,132,468,906.77  52.749023 -24.98\n",
      "1128   12/5/2024  2734.93         -0.57%   8,369,687,402.72  47.642393 -15.94\n"
     ]
    },
    {
     "name": "stderr",
     "output_type": "stream",
     "text": [
      "C:\\Users\\Asus\\AppData\\Local\\Temp\\ipykernel_4664\\867565060.py:9: FutureWarning: A value is trying to be set on a copy of a DataFrame or Series through chained assignment using an inplace method.\n",
      "The behavior will change in pandas 3.0. This inplace method will never work because the intermediate object on which we are setting values always behaves as a copy.\n",
      "\n",
      "For example, when doing 'df[col].method(value, inplace=True)', try using 'df.method({col: value}, inplace=True)' or df[col] = df[col].method(value) instead, to perform the operation inplace on the original object.\n",
      "\n",
      "\n",
      "  data['RSI'].fillna(0, inplace=True)\n"
     ]
    }
   ],
   "source": [
    "data = pd.read_csv(\"datanep.csv\")\n",
    "delta = data['Close'].diff()\n",
    "gain = delta.where(delta > 0, 0)\n",
    "loss = -delta.where(delta < 0, 0)\n",
    "avg_gain = gain.rolling(window=14).mean()\n",
    "avg_loss = loss.rolling(window=14).mean()\n",
    "rs = avg_gain / avg_loss\n",
    "data['RSI'] = 100 - (100 / (1 + rs))\n",
    "data['RSI'].fillna(0, inplace=True)\n",
    "data['delta']= data['Close'].diff()\n",
    "print(data[1110:])"
   ]
  },
  {
   "cell_type": "markdown",
   "metadata": {},
   "source": [
    "MACD calculation\n",
    "\n"
   ]
  },
  {
   "cell_type": "code",
   "execution_count": null,
   "metadata": {},
   "outputs": [],
   "source": [
    "data['ema12']= data['close'].ewm(span= 12, adjust= False).mean()\n",
    "\n",
    "data['ema26'] = data['close'].ewm(span = 26, adjust = False).mean()\n",
    "\n"
   ]
  },
  {
   "cell_type": "markdown",
   "metadata": {},
   "source": []
  }
 ],
 "metadata": {
  "kernelspec": {
   "display_name": "venv",
   "language": "python",
   "name": "python3"
  },
  "language_info": {
   "codemirror_mode": {
    "name": "ipython",
    "version": 3
   },
   "file_extension": ".py",
   "mimetype": "text/x-python",
   "name": "python",
   "nbconvert_exporter": "python",
   "pygments_lexer": "ipython3",
   "version": "3.10.0"
  }
 },
 "nbformat": 4,
 "nbformat_minor": 2
}
